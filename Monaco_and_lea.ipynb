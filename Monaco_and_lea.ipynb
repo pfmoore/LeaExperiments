{
 "cells": [
  {
   "cell_type": "markdown",
   "metadata": {},
   "source": [
    "Implementing Monaco examples in Lea\n",
    "===================================\n",
    "\n",
    "Introduction\n",
    "------------\n",
    "\n",
    "The Monaco program uses Monte Carlo simulation to calculate probability distributions for games. It uses its own custom language for defining the probability to be simulated.\n",
    "\n",
    "Monaco offers both simulation-based results and (for sufficiently simple cases) exact calculation of probabilities. It is coded in C++ for speed, and has a wealth of outputoptions.\n",
    "\n",
    "The Python library [lea](https://bitbucket.org/piedenis/lea) implements discrete probability distributions in Python. It calculates exact distributions based on calculations built up from primitive distribution objects.\n",
    "\n",
    "The Examples\n",
    "------------\n",
    "\n",
    "The Monaco documentation comes with a number of example calculations, ranging from very simple (rolling dice to generate D&D characters) to extremely complex (a simulation of Cribbage). In this notebook, we are going to attempt to reproduce the Monaco examples using Lea, as an exercise to compare the power of the two tools.\n",
    "\n",
    "**Disclaimer** The Monaco program has been developed over an extensive period and is written specifically for the task in hand in a compiled language. On the other hand, I have had little or no prior experience with lea, and the code runs in interpreted Python. Furthermore, apart from the Monaco \"exact\" mode, the two programs produce their results in completely different ways. While I will be looking at performance of the various calculations, this is simply for interest and not in any way a comparison of the two programs."
   ]
  },
  {
   "cell_type": "code",
   "execution_count": null,
   "metadata": {
    "collapsed": true
   },
   "outputs": [],
   "source": [
    "from lea import *"
   ]
  },
  {
   "cell_type": "markdown",
   "metadata": {},
   "source": [
    "We're also going to want to work out how long it takes to get our results. This is for two main reasons. First, as a bit of amusement to see how well our code compares with Monaco. As noted above, Monaco is customised for this task, and has a lot of options that we're not even looking at here, so \"which approach is faster\" comparisons are somewhat pointless. But I find it interesting to know how competitive my \"use a high-level language and find a library that's already written to do the hard stuff\" approach is in practice. And secondly, the naive approach to some of the following problems scales *really* badly, so we'll time our code to get an idea of when things start to go bad and we need to do some optimisation."
   ]
  },
  {
   "cell_type": "code",
   "execution_count": null,
   "metadata": {
    "collapsed": false
   },
   "outputs": [],
   "source": [
    "import time\n",
    "from contextlib import contextmanager\n",
    "from datetime import timedelta\n",
    "\n",
    "@contextmanager\n",
    "def time_this(title=\"Execution time\"):\n",
    "    start = time.perf_counter()\n",
    "    yield\n",
    "    end = time.perf_counter()\n",
    "    print(\"{}: {}\".format(title, timedelta(seconds=end-start)))\n",
    "    \n",
    "# A quick test\n",
    "with time_this():\n",
    "    time.sleep(0.5)"
   ]
  },
  {
   "cell_type": "markdown",
   "metadata": {},
   "source": [
    "Example 1 - D&D Characters\n",
    "--------------------------\n",
    "\n",
    "The first example is rolling the characteristics for a D&D character. The process is to roll five six-sided dice, discard the worst two, and add the rest up. In Monaco, this is\n",
    "\n",
    "    sum(tail3(sort(repeat5{d6})))\n",
    "\n",
    "In lea, we will separate those steps out."
   ]
  },
  {
   "cell_type": "code",
   "execution_count": null,
   "metadata": {
    "collapsed": false
   },
   "outputs": [],
   "source": [
    "# First, the probability distribution for a single six-sided die\n",
    "d6 = Lea.interval(1,6)\n",
    "# We now take the cartesian product of five of these\n",
    "# This gives us a distribution of tuples, each outcome containing a specific set of five dice rolls\n",
    "five_d6 = d6.cprodTimes(5)\n",
    "\n",
    "# The following function, given a set of die rolls, calculates the characteristic based on them\n",
    "def characteristic(dice):\n",
    "    return sum(list(sorted(dice, reverse=True))[:3])\n",
    "\n",
    "# So we map the calculation over the dieroll distribution, and display the results\n",
    "with time_this(\"Map\"):\n",
    "    distribution = five_d6.map(characteristic)\n",
    "\n",
    "# Display as a histogram\n",
    "with time_this(\"Display\"):\n",
    "    print(distribution.asString('/-'))"
   ]
  },
  {
   "cell_type": "markdown",
   "metadata": {},
   "source": [
    "In principle, this approach (generate all the results we need, define a function to use them to calculate the required value, map the function over the results) works for any type of calculation. But there's an obvious issue, which is that the intermediate cartesian product could be very large. Whether that is an issue in practice, is something we'll need to determine as we proceed. The lea documentation states that lea calculates distributions lazily, so it should be possible to limit the combinatorial explosion.\n",
    "\n",
    "One notable consequence of the lazy evaluation approach is that calculating the distribution is essentially free, but producing the results for display is where the time is spent (only 0.1 seconds here, but we're going to see bigger times soon...)"
   ]
  },
  {
   "cell_type": "markdown",
   "metadata": {},
   "source": [
    "Example 2 - Monopoly\n",
    "--------------------\n",
    "\n",
    "The second example in the Monaco documentation is calculatingthe expected move around a Monopoly board. The rule is a little more complex this time. Roll 2 dice initially, and add the values. If you rolled a double, reroll and add the result to the first roll. Repeat as often as you roll a double, but if you roll three doubles, you \"go to gaol\" instead of moving.\n",
    "\n",
    "The Monaco calculation is\n",
    "\n",
    "    until(r1:=d6;r2:=d6;r0+=r1+r2,r1!=r2|(r9+=1)==3&error)\n",
    "\n",
    "There are two interesting points here - `until` only calculates as needed, so Monaco doesn't roll extra dice if the first pair wasn't a double. And `error` is used to signal the \"go to gaol\" condition. Note that because of the use of `until`, Monaco cannot calculate this result exactly - but that's not really important as a simple reformulation to pre-roll all the dice:\n",
    "\n",
    "    r:=repeat6{d6};r0+r1+(r0==r1?r2+r3+(r2==r3?(r4==r5?error:r4+r5:0):0)\n",
    "\n",
    "can be calculated exactly."
   ]
  },
  {
   "cell_type": "markdown",
   "metadata": {},
   "source": [
    "In lea, we will use the same \"do all the rolls and calculate the result\" as before. One small point is that because lea doesn't require the result values to all be numbers, we can simply use (the string) \"Gaol\" as a result for 3 doubles."
   ]
  },
  {
   "cell_type": "code",
   "execution_count": null,
   "metadata": {
    "collapsed": false
   },
   "outputs": [],
   "source": [
    "# Start as before, this time pregenerate 6 die rolls\n",
    "six_d6 = Lea.interval(1,6).cprodTimes(6)\n",
    "\n",
    "# A function that does the actual \"given 6 die rolls, what move would\n",
    "# I make in Monopoly?\" calculation.\n",
    "def monopoly(d):\n",
    "    d1,d2,d3,d4,d5,d6 = d\n",
    "    if d1 != d2:\n",
    "        return d1+d2\n",
    "    if d3 != d4:\n",
    "        return d1+d2+d3+d4\n",
    "    if d5 != d6:\n",
    "        return d1+d2+d3+d4+d5+d6\n",
    "    return 'Gaol'\n",
    "\n",
    "# And as before, map the results and display\n",
    "distribution = six_d6.map(monopoly)\n",
    "\n",
    "# Display as a histogram\n",
    "with time_this(\"Calculate the distribution\"):\n",
    "    print(distribution.asString('/-'))"
   ]
  },
  {
   "cell_type": "markdown",
   "metadata": {},
   "source": [
    "An interesting (but minor) point is that the display of the results is not in any particular order. In non-experimental code, we'd fix this, but for now the simple display routine is sufficient."
   ]
  },
  {
   "cell_type": "markdown",
   "metadata": {},
   "source": [
    "### Digression - Short Circuiting\n",
    "\n",
    "The overhead of rolling all the dice up front isn't significant here, so the above approach is fine. But it's not going to scale for long (see below). So we need to consider howe we'd implement a version of the calculation that short circuits. This gets us quite a lot further into the details of how lea builds distributions, and how lazy evaluation works.\n",
    "\n",
    "Here is a short-circuiting implementation of the Monopoly proble, from the author of lea. Note that it doesn't allow for the \"Gaol\" result, instead simply allowing a maximum number of rerolls."
   ]
  },
  {
   "cell_type": "code",
   "execution_count": null,
   "metadata": {
    "collapsed": false
   },
   "outputs": [],
   "source": [
    "def recDice(nbMaxThrows):\n",
    "    d1 = Lea.interval(1,6)\n",
    "    d2 = d1.clone()\n",
    "    dSum = d1 + d2\n",
    "    if nbMaxThrows > 1:\n",
    "        dSum += Lea.if_(d1==d2,recDice(nbMaxThrows-1),0)\n",
    "    return dSum.getAlea()\n",
    "\n",
    "recDice(3)"
   ]
  },
  {
   "cell_type": "markdown",
   "metadata": {},
   "source": [
    "The results differ from the Monopoly results because of the lack of \"Gaol\" - a roll of 1,1,1,1,1,1 counts as 6, rather than as \"go to gaol\".\n",
    "\n",
    "The way the above function works is important, though.\n",
    "\n",
    "Internally, lea uses various different object types for probability distributions. The `Alea` type is the fundamental \"results with weights\" type, and as such, is fast to use. The `Clea` type is the other one we've been using so far. It represents a cartesian join of distributions, but it doesn't actually calculate any results until needed (at which point it does the calculations and caches the result, which is why the time spent in our examples so far is when we display the results).\n",
    "\n",
    "The above function uses a new type, `Blea`, which represents a conditional probability. So `Lea.if_(cond, t, f)` builds a structure that chooses `t` or `f` depending on the value of `cond`. We use this to define an object that only includes the 3rd, 4th and subsequent dice if needed. (The code as given then forces the evaluation of the probabilities by explicitly requesting an `Alea` object at the end, but if it didn't, the usual \"evaluate on demand\" would occur).\n",
    "\n",
    "Adding in the \"Gaol\" result is harder to do than it looks. The problem is that we are adding 0 to the sum (rather than a further recursive segment of the expression tree) to terminate the recursion on a non-equal pair, but when we hit the maximum number of rerolls, there's no easy way to push an \"exceptional\" result back up to the top level. It can be done, but the implementation is tricky. Basically you have to add control-flow into a purely expression-based calculation. Functional programmers are probably wondering what the fuss is all about, but from an imperative perspective, it's hard to get your mind round the necessary contortions.\n",
    "\n",
    "The following is a working implementation, but it's hard to love it. I'm using an anonymous function (lambda) and immediately calling it, to simulate the use of temporary variables in an expression. There are certainly better ways of doing this. But we'll leave this topic for now, as the principle is established, and we'll likely come back to it later, for more complex problems."
   ]
  },
  {
   "cell_type": "code",
   "execution_count": null,
   "metadata": {
    "collapsed": false
   },
   "outputs": [],
   "source": [
    "def recMonopolyDice(nbMaxThrows):\n",
    "    d1 = Lea.interval(1,6)\n",
    "    d2 = d1.clone()\n",
    "    dSum = d1 + d2\n",
    "    if nbMaxThrows == 1:\n",
    "        dSum = Lea.if_(d1==d2,\"Gaol\",dSum)\n",
    "    else:\n",
    "        dSum = Lea.if_(d1==d2,(lambda x:Lea.if_(x==\"Gaol\",x,dSum+x))(recMonopolyDice(nbMaxThrows-1)),dSum)\n",
    "    return dSum.getAlea()   \n",
    "\n",
    "recMonopolyDice(3)"
   ]
  },
  {
   "cell_type": "markdown",
   "metadata": {},
   "source": [
    "Example 3 - Ysphan\n",
    "------------------\n",
    "\n",
    "In many ways, this is more of the same. The first part of the calculation is simply the number of *different* numbers showing on a roll of nine six-sided dice. The second part is the same, but with twelve dice (to look at whether buying 3 extra dice is worth it).\n",
    "\n",
    "In Monaco\n",
    "\n",
    "    unique(repeat9{d6})\n",
    "\n",
    "The new issue here is that we start to get much bigger intermediate cartesian joins. In fact, sufficiently big that running the calculations takes a long time (not just sub-second, but real work, now). So we'll do the nine-dice example, and display the runtime as well."
   ]
  },
  {
   "cell_type": "code",
   "execution_count": null,
   "metadata": {
    "collapsed": false
   },
   "outputs": [],
   "source": [
    "# The same old routine\n",
    "nine_d6 = Lea.interval(1,6).cprodTimes(9)\n",
    "\n",
    "# Number of unique values\n",
    "def uniq(d):\n",
    "    return len(set(d))\n",
    "\n",
    "# Calculate the distribution\n",
    "distribution = nine_d6.map(uniq)\n",
    "\n",
    "# Display as a histogram\n",
    "# Sick of waiting for this to run, so comment it out for now\n",
    "# with time_this(\"Full cartesian join, 9 dice\"):\n",
    "#     print(distribution.asString('/-'))"
   ]
  },
  {
   "cell_type": "markdown",
   "metadata": {},
   "source": [
    "OK, so we learned some interesting things here.\n",
    "\n",
    "1. The \"roll all the dice up front\" approach isn't going to scale.\n",
    "2. Lea does lazy calculations, so the time is in the *display* step, not where you'd immediately expect, in the creation of the distribution.\n",
    "\n",
    "I'm not going to say how many runs it took me to work out what was going on there. But learning experiences are good :-) I actually went back and reworked some of the earlier presentation so it looks like I knew this earlier. That's the fun of writing things like this up as a document - you can pretend you knew what was going on from the start. But it's also interesting (to me, at least) to record the learning process. And until I hit a case where the calculations were taking a significant time, I hadn't really thought about where the time was spent, so I hadn't thought through the implications of lazy evaluation.\n",
    "\n",
    "So we want a better approach to this calculation."
   ]
  },
  {
   "cell_type": "markdown",
   "metadata": {},
   "source": [
    "Sorted Sets of Dice\n",
    "-------------------\n",
    "\n",
    "For the Ysphan example we don't actually need to consider *all* possible rolls - the order we roll the dice in is irrelevant. So we could just as well use a (suitably weighted) probability distribution that covered only the set of rolls that are unique ignoring ordering.\n",
    "\n",
    "Let's look at generating *sorted* sets of dice. A sorted result is certainly one of the \"unique up to ordering\" answers, and for some problems having the results sorted might be useful (it would have helped in the D&D example above, for instance). And it turns out not to be any harder to generate sorted results (it's actually easier because there's a standard library function that does it for us :-))\n",
    "\n",
    "OK, so we're looking for sets of *n* dice, each with *m* sides, such that the dice are in ascending order. The first die can take any value. Then the second can only take values from the value of the first upwards. And so on.\n",
    "\n",
    "We can generate a set of values by using `itertools.combinations_with_replacement(die, N)` where `die` is the result set of the die, and `N` is how many to take at a time. To get the weights, we need to know how many arrangements of the outcome there are. This is $n!$ (how many permutations of the result there are) divided by the product of the number of orderings of each repeated value (if a value is repeated $r$ times, there are $r!$ such orderings).\n",
    "\n",
    "Note that `combinations_with_replacement` is defined as emitting the results in lexicographic order, so as long as the input (`range`) is sorted, the output will be too."
   ]
  },
  {
   "cell_type": "code",
   "execution_count": null,
   "metadata": {
    "collapsed": false
   },
   "outputs": [],
   "source": [
    "from itertools import combinations_with_replacement\n",
    "from collections import Counter\n",
    "from math import factorial\n",
    "def dice_set(n, m):\n",
    "    permutations = factorial(n)\n",
    "    for outcome in combinations_with_replacement(range(1, m+1), n):\n",
    "        weight = permutations\n",
    "        for v in Counter(outcome).values():\n",
    "            weight = weight // factorial(v)\n",
    "        yield outcome, weight"
   ]
  },
  {
   "cell_type": "markdown",
   "metadata": {},
   "source": [
    "As a test, let's do the D&D example again."
   ]
  },
  {
   "cell_type": "code",
   "execution_count": null,
   "metadata": {
    "collapsed": false
   },
   "outputs": [],
   "source": [
    "with time_this(\"D&D with sorted data\"):\n",
    "    print(Lea.fromValFreqs(*dice_set(5,6)).map(lambda d: sum(d[2:])).asString(\"/-\"))"
   ]
  },
  {
   "cell_type": "markdown",
   "metadata": {},
   "source": [
    "Faster, but for a problem this size it doesn't really matter.\n",
    "\n",
    "With this routine, let's retry the Ysphan example."
   ]
  },
  {
   "cell_type": "code",
   "execution_count": null,
   "metadata": {
    "collapsed": false
   },
   "outputs": [],
   "source": [
    "with time_this(\"Ysphan 9 dice, sorted rolls\"):\n",
    "    rolls = Lea.fromValFreqs(*dice_set(9, 6))\n",
    "    print(rolls.map(lambda d: len(set(d))).asString('/-'))"
   ]
  },
  {
   "cell_type": "markdown",
   "metadata": {},
   "source": [
    "Well, that is significantly faster! We can check how much of an improvement there is in terms of the number of outcomes to check. We'll do this for both the 9 and 12 dice cases."
   ]
  },
  {
   "cell_type": "code",
   "execution_count": null,
   "metadata": {
    "collapsed": false
   },
   "outputs": [],
   "source": [
    "def improvement(n):\n",
    "    # Cartesian product result set size\n",
    "    cp = 6**n\n",
    "    # Order-independent result set size\n",
    "    oi = len(list(combinations_with_replacement(range(1,7),n)))\n",
    "    print(\"For {} dice, the number of outcomes to test drops from {} to {} ({:.4f}% as many)\".format(n, cp, oi, oi/cp*100))\n",
    "\n",
    "improvement(9)\n",
    "improvement(12)"
   ]
  },
  {
   "cell_type": "markdown",
   "metadata": {},
   "source": [
    " That looks good - and the improvement increases as the number of dice increase :-)\n",
    " \n",
    " **Note:** I don't know how to calculate the order-independent result set size as a function of the number of results, n. At some point I will work this out so I can include a proper complexity calculation for the `dice_set` function.\n",
    " \n",
    " Let's see how the 12-dice example fares."
   ]
  },
  {
   "cell_type": "code",
   "execution_count": null,
   "metadata": {
    "collapsed": false
   },
   "outputs": [],
   "source": [
    "with time_this(\"Ysphan 12 dice, sorted rolls\"):\n",
    "    rolls = Lea.fromValFreqs(*dice_set(12, 6))\n",
    "    print(rolls.map(lambda d: len(set(d))).asString('/-'))"
   ]
  },
  {
   "cell_type": "markdown",
   "metadata": {},
   "source": [
    "OK, so as long as order isn't important we win significantly."
   ]
  },
  {
   "cell_type": "markdown",
   "metadata": {},
   "source": [
    "## Example 4 - To Court The King\n",
    "\n",
    "This example is harder to formulate than the previous ones. The rules are explained in a very procedural manner (hardly surprising, that's how the game rules are written).\n",
    "\n",
    "The following is the procedural algorithm we'll use.\n",
    "\n",
    "1. Roll N dice. Put to one side the largest set of dice with the same number on as you can.\n",
    "2. Roll the remaining dice again, and keep any dice with your chosen number. If none have your chosen number, discard one die.\n",
    "3. Repeat step (2) as long as you have dice to roll.\n",
    "\n",
    "In order to produce a probability distribution, we need to express this in terms of an expression.\n",
    "\n",
    "We will use N=7 as an example.\n",
    "\n",
    "**Note** This reformulation will be hard. I'll save this document now and come back to this problem later..."
   ]
  },
  {
   "cell_type": "markdown",
   "metadata": {},
   "source": [
    "OK, step 1 is the initial roll. That's easy, just roll N dice (unordered) and count the largest set of dice with the same number on."
   ]
  },
  {
   "cell_type": "code",
   "execution_count": null,
   "metadata": {
    "collapsed": false
   },
   "outputs": [],
   "source": [
    "from collections import Counter\n",
    "\n",
    "def first_roll(N):\n",
    "    first = Lea.fromValFreqs(*dice_set(N, 6))\n",
    "    first = first.map(lambda d: Counter(d).most_common(1)[0][1])\n",
    "    return first\n",
    "\n",
    "print(first_roll(3).asString(\"/-\"))"
   ]
  },
  {
   "cell_type": "markdown",
   "metadata": {},
   "source": [
    "Step 2 is actually not that hard if you think about it the right way. All we care about is \"Hit\" (1/6 chance) and \"Miss\" (5/6 chance). Count those over however many rolls we're doing. That's just a binomial distribution. Now use the recursion trick we developed for Monopoly above to repeat until we run out of dice."
   ]
  },
  {
   "cell_type": "code",
   "execution_count": null,
   "metadata": {
    "collapsed": false
   },
   "outputs": [],
   "source": [
    "import operator\n",
    "def xxx(dist, fn, op=operator.add):\n",
    "    for v,p in dist.vps():\n",
    "        newdist = fn(v)\n",
    "        for v1,p1 in newdist.vps():\n",
    "            yield op(v,v1), (p*p1)\n",
    "\n",
    "def rest(N):\n",
    "    if N == 0:\n",
    "        # Wrong - we should terminate here\n",
    "        result = Lea.fromVals(0)\n",
    "    elif N == 1:\n",
    "        result = Lea.fromValFreqs((1,1), (0,5))\n",
    "    else:\n",
    "        successes = Lea.binom(N, 1, 6)\n",
    "        # The problem here is that map is supposed to be scalar -> scalar, not scalar -> distribution.\n",
    "        result = Lea.fromValFreqs(*xxx(successes, N - Lea.if_(successes==0, 1, successes), rest))\n",
    "    return result.getAlea()\n",
    "\n",
    "print(Lea.binom(2,1,6).asString(\"/-\"))\n",
    "print(\"-\"*20)\n",
    "print(rest(1).asString(\"/-\"))\n",
    "print(\"-\"*20)\n",
    "print(rest(2).asString(\"/-\"))\n",
    "print(\"-\"*20)\n",
    "print(rest(3).asString(\"/-\"))\n",
    "print(\"-\"*20)\n",
    "\n",
    "def TCtK(N):\n",
    "    fr = first_roll(N)\n",
    "    return fr + Lea.fromValFreqs(*xxx(fr, lambda nn: rest(N-nn)))\n",
    "\n",
    "print(TCtK(3).asString(\".-\"))"
   ]
  },
  {
   "cell_type": "code",
   "execution_count": null,
   "metadata": {
    "collapsed": false
   },
   "outputs": [],
   "source": [
    "s = Lea.binom(2,1,6)\n",
    "print(s)\n",
    "print(\"-\"*20)\n",
    "print(2 - Lea.if_(s==0,1,s))\n",
    "print(\"-\"*20)\n",
    "print((2 - Lea.if_(s==0,1,s)).map(lambda x: Lea.binom(x,1,6)))\n"
   ]
  },
  {
   "cell_type": "markdown",
   "metadata": {},
   "source": [
    "## Example 5 - Odds of a Full House in Poker\n",
    "\n",
    "For the first time now, we're going to look at a card game. We want to know the odds of a full house, so we don't care about the suits here. So we'll use a \"deck\" of 4 copies of the 13 face values. Lea includes a \"draw without replanement\" function that does exactly what we need in terms of dealing a hand of 5 cards.\n",
    "\n",
    "The above doesn't work. We can't say a deck has \"4 Aces\" for example, because it's *not* a deck, it's a probability distribution. So we do have to put all the cards in."
   ]
  },
  {
   "cell_type": "code",
   "execution_count": null,
   "metadata": {
    "collapsed": true
   },
   "outputs": [],
   "source": [
    "cards = \"A23456789TJQK\"\n",
    "suits = \"CDHS\"\n",
    "deck = Lea.fromVals(*(c+s for c in cards for s in suits))\n",
    "hand = deck.draw(5)\n",
    "# There should be 52*51*50*49*48 outcomes\n",
    "print(52*51*50*49*48)\n",
    "\n",
    "# We won't do this, it takes forever :-()\n",
    "#with time_this(\"Drawing a poker hand\"):\n",
    "#    hal = hand.getAlea()\n",
    "#print(len(hal._vs))"
   ]
  }
 ],
 "metadata": {
  "kernelspec": {
   "display_name": "Python 3",
   "language": "python",
   "name": "python3"
  },
  "language_info": {
   "codemirror_mode": {
    "name": "ipython",
    "version": 3
   },
   "file_extension": ".py",
   "mimetype": "text/x-python",
   "name": "python",
   "nbconvert_exporter": "python",
   "pygments_lexer": "ipython3",
   "version": "3.5.1"
  }
 },
 "nbformat": 4,
 "nbformat_minor": 0
}
